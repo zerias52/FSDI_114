{
 "cells": [
  {
   "cell_type": "code",
   "execution_count": 32,
   "id": "d9e0dae2-1752-44d9-9c0c-33b01c4d7048",
   "metadata": {},
   "outputs": [],
   "source": [
    "class DoublyLinkedList:\n",
    "    class __Node:\n",
    "        def __init__(self, datum):\n",
    "            self.data = datum\n",
    "            self.next = None\n",
    "            self.prev = None\n",
    "\n",
    "    def __init__(self):\n",
    "        self.head = None\n",
    "        self.tail = None\n",
    "        self.size = 0\n",
    "\n",
    "    def append(self, datum):\n",
    "        #This method should add a new node as the tail of the list. If there is no head node, this also becomes the head \n",
    "        new_node = self.__Node(datum)\n",
    "        if not self.head:\n",
    "            self.head = new_node\n",
    "            self.tail = new_node\n",
    "        else:\n",
    "            self.tail.next = new_node\n",
    "            new_node.prev = self.tail\n",
    "            self.tail = new_node\n",
    "        self.size += 1\n",
    "\n",
    "    def remove(self, datum):\n",
    "        #This method should remove the first node that has \"datum\" in its data attribute. Raise a ValueError if the value does not exist\n",
    "        if self.head:\n",
    "            previous = None\n",
    "            current = self.head\n",
    "            while current and current.data != datum:\n",
    "                previous = current\n",
    "                current = current.next\n",
    "            if not current: \n",
    "                raise ValueError(\"%s not found in list\" % datum)\n",
    "            else:\n",
    "                if previous:\n",
    "                    previous.next = current.next\n",
    "                    if current.next:\n",
    "                        current.next.prev = previous\n",
    "                else:\n",
    "                    self.head = self.head.next\n",
    "                    if self.head:\n",
    "                        self.head.preve = None\n",
    "                if current == self.tail:\n",
    "                    self.tail = previous\n",
    "                    self.size -= 1\n",
    "        else:\n",
    "            raise ValueError (\"Target value %s is not in list\" % datum)\n",
    "\n",
    "    def __len__(self):\n",
    "        return self.size\n",
    "\n",
    "    def __str__(self):\n",
    "        #This method should return a string representation of all the values stored in the list (IE: [1, 2, 3])\n",
    "        out = \"[\"\n",
    "        if self.head:\n",
    "            current = self.head\n",
    "            out += \"%s\" % repr(current.data)\n",
    "            current = current.next\n",
    "            while current:\n",
    "                out += \", %s\" % repr(current.data)\n",
    "                current = current.next\n",
    "        out += \"]\"\n",
    "        return out\n",
    "\n",
    "    def insert(self, index, datum):\n",
    "        #inserts a new node before the target index\n",
    "        new_node = self.__Node(datum)\n",
    "        self.size += 1\n",
    "        found = False\n",
    "        count = 0\n",
    "        if self.head:\n",
    "            current = self.head\n",
    "            if index == 0:\n",
    "                #this means we're attempting to replace the head node\n",
    "                new_node.next = self.head\n",
    "                self.head.prev = new_node\n",
    "                self.head = new_node\n",
    "            else:\n",
    "                while current:\n",
    "                    if count == index:\n",
    "                        found = True\n",
    "                        break\n",
    "                    current = current.next\n",
    "                    count += 1\n",
    "                if found:\n",
    "                    current.prev.next = new_node\n",
    "                    new_node.prev = current.prev\n",
    "                    new_node.next = current\n",
    "                    current.prev = new_node\n",
    "                else:\n",
    "                        self.append(datum)\n",
    "        else:\n",
    "            self.head = new_node\n",
    "            self.tail = new_node"
   ]
  },
  {
   "cell_type": "code",
   "execution_count": 33,
   "id": "c79dfdb4-66aa-4692-ab5b-206972e85130",
   "metadata": {},
   "outputs": [
    {
     "name": "stdout",
     "output_type": "stream",
     "text": [
      "[1, 2, 1.5]\n"
     ]
    }
   ],
   "source": [
    "dll = DoublyLinkedList()\n",
    "\n",
    "#When the list is empty:\n",
    "dll.insert(0, 1)\n",
    "\n",
    "# When the list is not empty but the index exceed the length of the list\n",
    "dll.insert(2, 2)\n",
    "\n",
    "# When the list is not empty but the index does not exceed the length of the list\n",
    "dll.insert(2, 1.5)\n",
    "\n",
    "print(dll)"
   ]
  },
  {
   "cell_type": "code",
   "execution_count": 34,
   "id": "fc68921e-7524-4168-894b-f324d7daded5",
   "metadata": {},
   "outputs": [
    {
     "name": "stdout",
     "output_type": "stream",
     "text": [
      "Our list: [1, 2, 3, 4, 5, 6, 7, 8, 9, 10]\n"
     ]
    }
   ],
   "source": [
    "dll = DoublyLinkedList()\n",
    "\n",
    "for number in range(1, 11):\n",
    "    dll.append(number)\n",
    "\n",
    "print(\"Our list: %s\" % dll)"
   ]
  },
  {
   "cell_type": "code",
   "execution_count": null,
   "id": "9cb5b964-b3c6-4e0b-aade-ae9f6c34d1b8",
   "metadata": {},
   "outputs": [],
   "source": []
  }
 ],
 "metadata": {
  "kernelspec": {
   "display_name": "Python 3 (ipykernel)",
   "language": "python",
   "name": "python3"
  },
  "language_info": {
   "codemirror_mode": {
    "name": "ipython",
    "version": 3
   },
   "file_extension": ".py",
   "mimetype": "text/x-python",
   "name": "python",
   "nbconvert_exporter": "python",
   "pygments_lexer": "ipython3",
   "version": "3.12.7"
  }
 },
 "nbformat": 4,
 "nbformat_minor": 5
}
