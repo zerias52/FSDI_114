{
 "cells": [
  {
   "cell_type": "code",
   "execution_count": 1,
   "id": "504b0fdf-627b-49c0-a634-a4de3a9b7ea8",
   "metadata": {},
   "outputs": [
    {
     "name": "stdout",
     "output_type": "stream",
     "text": [
      "h\n",
      "e\n",
      "l\n",
      "l\n",
      "o\n",
      ",\n",
      " \n",
      "w\n",
      "o\n",
      "r\n",
      "l\n",
      "d\n",
      "!\n"
     ]
    }
   ],
   "source": [
    "for char in \"hello, world!\":\n",
    "    print (char)"
   ]
  },
  {
   "cell_type": "markdown",
   "id": "ee6468f5-4824-4496-aaee-ad105c6cdf6f",
   "metadata": {},
   "source": [
    "# Stacks and Queues\n",
    "Stacks and queues are ordered collections of elements. The ordering principle is important."
   ]
  },
  {
   "cell_type": "code",
   "execution_count": 2,
   "id": "62e10e47-b1b8-4f7b-ac56-52e7191e10e2",
   "metadata": {},
   "outputs": [],
   "source": [
    "#Simplified implementation of Stat (relying on built-ins)\n",
    "\n",
    "class Stack:\n",
    "    def __init__(self):\n",
    "        self.items = []\n",
    "\n",
    "    def push(self, value):\n",
    "        self.items.append(value)\n",
    "\n",
    "    def pop(self):\n",
    "        return self.items.pop()\n",
    "\n",
    "    #Nice to have methods\n",
    "    def peek(self):\n",
    "        return self.items[len(self.items)-1]\n",
    "\n",
    "    def size(self):\n",
    "        return len(self.items)\n",
    "\n",
    "    def is_empty(self):\n",
    "        return self.items == []"
   ]
  },
  {
   "cell_type": "code",
   "execution_count": 18,
   "id": "12878d77-5df6-45f3-a4f9-f6fd68df99ef",
   "metadata": {},
   "outputs": [],
   "source": [
    "#From scratch implemantation of Stack\n",
    "\n",
    "class StackII:\n",
    "    class __Node:\n",
    "        def __init__(self,data):\n",
    "            self.data = data\n",
    "            self.below = None\n",
    "\n",
    "    def __init__(self):\n",
    "        self.top = None\n",
    "\n",
    "    def push(self, value):\n",
    "        new_node = self.__Node(value)\n",
    "        if not self.top:              #this is the same as if self.top == None\n",
    "            self.top = new_node\n",
    "        else:\n",
    "            new_node.below = self.top\n",
    "            self.top = new_node\n",
    "\n",
    "    def pop(self):\n",
    "        if self.top:\n",
    "            datum = self.top.data\n",
    "            self.top = self.top.below\n",
    "            return datum\n",
    "        raise IndexError(\"Stack is empty\")\n",
    "\n",
    "    #Nice to have methods\n",
    "    def peek(self):\n",
    "        if self.top:\n",
    "            return self.top.data\n",
    "        raise IndexError(\"Stack is empty\")\n",
    "\n",
    "    def size(self):\n",
    "        #Node traversal\n",
    "        count = 0\n",
    "        if self.top:\n",
    "            current = self.top\n",
    "            while current:            #this is the same as while current is not None\n",
    "                count +=1\n",
    "                current = current.below\n",
    "        return count\n",
    "\n",
    "    def is_empty(self):\n",
    "        return self.top == None"
   ]
  },
  {
   "cell_type": "code",
   "execution_count": 4,
   "id": "e0d5fcf0-0cc4-40a8-a82b-dcc3efb68a57",
   "metadata": {},
   "outputs": [],
   "source": [
    "def invert_str(mystring, class_name):\n",
    "    stack = class_name()\n",
    "    for char in mystring:\n",
    "        stack.push(char)\n",
    "    out = \"\"\n",
    "    while not stack.is_empty():\n",
    "        out += stack.pop()\n",
    "    return out"
   ]
  },
  {
   "cell_type": "code",
   "execution_count": 7,
   "id": "2edfacc8-31ef-47f9-a511-1796b10a0146",
   "metadata": {},
   "outputs": [
    {
     "name": "stdout",
     "output_type": "stream",
     "text": [
      "tterB\n",
      "tterB\n"
     ]
    }
   ],
   "source": [
    "#with built-in implementation:\n",
    "print(invert_str(\"Brett\", Stack))\n",
    "\n",
    "#with from scratch implementation:\n",
    "print(invert_str(\"Brett\", StackII))"
   ]
  },
  {
   "cell_type": "code",
   "execution_count": 11,
   "id": "93c8c0d7-eb89-4f19-a794-e6a2eaa0ef14",
   "metadata": {
    "jp-MarkdownHeadingCollapsed": true
   },
   "outputs": [],
   "source": [
    "# Built-in implementation of Queues\n",
    "class Queue:\n",
    "    def __init__(self):\n",
    "        self.items = []\n",
    "\n",
    "    def enqueue(self, value):\n",
    "        self.items.insert(0, value)\n",
    "    \n",
    "    def dequeue(self):\n",
    "        self.items.pop()\n",
    "\n",
    "    #Nice to have methods\n",
    "    def peek(self):\n",
    "        return self.items[len(self.items)-1]\n",
    "\n",
    "    def size(self):\n",
    "        return len(self.items)\n",
    "\n",
    "    def is_empty(self):\n",
    "        return self.items == []"
   ]
  },
  {
   "cell_type": "code",
   "execution_count": 19,
   "id": "1a39d563-e202-492f-adff-03f705347606",
   "metadata": {},
   "outputs": [],
   "source": [
    "#From scratch implementation of Queue\n",
    "class QueueII:\n",
    "    class __Node:\n",
    "        def __init__(self, data):\n",
    "            self.data = data\n",
    "            self.next = None\n",
    "\n",
    "    def __init__(self):\n",
    "        self.back = None\n",
    "        self.front = None\n",
    "\n",
    "    def enqueue(self, value):\n",
    "        new_node = self.__Node(value)\n",
    "        if not self.front:\n",
    "            self.front = new_node\n",
    "        else:\n",
    "            self.back.next = new_node\n",
    "        self.back = new_node\n",
    "\n",
    "    def dequeue(self):\n",
    "        if self.front:\n",
    "            datum = self.front.data\n",
    "            self.front = self.front.next\n",
    "            return datum\n",
    "        raise IndexError(\"Queue is empty\")\n",
    "\n",
    "    #Nice to have methods for extra points\n",
    "    def peek(self):\n",
    "        if self.front:\n",
    "            return self.front.data\n",
    "        raise IndexError(\"Queue is empty\")\n",
    "\n",
    "    def size(self):\n",
    "        count = 0\n",
    "        if self.front:\n",
    "            current = self.front\n",
    "            while current:            #this is the same as while current is not None\n",
    "                count +=1\n",
    "                current = current.next\n",
    "        return count\n",
    "\n",
    "    def is_empty(self):\n",
    "        return self.front == None"
   ]
  },
  {
   "cell_type": "code",
   "execution_count": 18,
   "id": "72abe397-f4f5-4755-b0c2-415984130ad2",
   "metadata": {},
   "outputs": [
    {
     "name": "stdout",
     "output_type": "stream",
     "text": [
      "Dequeued: 1\n",
      "Dequeued: 2\n",
      "Dequeued: 3\n",
      "Dequeued: 4\n",
      "Dequeued: 5\n",
      "Dequeued: 6\n",
      "Dequeued: 7\n",
      "Dequeued: 8\n",
      "Dequeued: 9\n",
      "Dequeued: 10\n"
     ]
    }
   ],
   "source": [
    "queue = QueueII()\n",
    "for num in range (1,11):\n",
    "    queue.enqueue(num)\n",
    "\n",
    "while not queue.is_empty():\n",
    "    print(\"Dequeued: %s\" % queue.dequeue())"
   ]
  },
  {
   "cell_type": "code",
   "execution_count": null,
   "id": "c499d4fe-8604-4bd5-ba31-24154155859e",
   "metadata": {},
   "outputs": [],
   "source": []
  }
 ],
 "metadata": {
  "kernelspec": {
   "display_name": "Python 3 (ipykernel)",
   "language": "python",
   "name": "python3"
  },
  "language_info": {
   "codemirror_mode": {
    "name": "ipython",
    "version": 3
   },
   "file_extension": ".py",
   "mimetype": "text/x-python",
   "name": "python",
   "nbconvert_exporter": "python",
   "pygments_lexer": "ipython3",
   "version": "3.12.7"
  }
 },
 "nbformat": 4,
 "nbformat_minor": 5
}
