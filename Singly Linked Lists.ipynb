{
 "cells": [
  {
   "cell_type": "code",
   "execution_count": 18,
   "id": "bad0dc55-489f-44b4-b951-9ecab42e6275",
   "metadata": {},
   "outputs": [],
   "source": [
    "#From Scratch Implementation of Singly Linked Lists\n",
    "\n",
    "class SinglyLinkedList:\n",
    "    class __Node:\n",
    "        def __init__(self, datum):\n",
    "            self.data = datum\n",
    "            self.next = None\n",
    "\n",
    "    def __init__(self):\n",
    "        self.head = None\n",
    "        self.tail = None\n",
    "        self.size = 0\n",
    "\n",
    "    def append(self, datum):\n",
    "        new_node = self.__Node(datum)\n",
    "        self.size += 1\n",
    "        if not self.head:\n",
    "            self.head = new_node\n",
    "            self.tail = new_node\n",
    "        else:\n",
    "            self.tail.next = new_node\n",
    "            self.tail = new_node\n",
    "\n",
    "    def remove(self, datum):\n",
    "        #removed the first instance of datum from the list if found; ValueError if not found\n",
    "        if self.head:\n",
    "            previous = None\n",
    "            current = self.head\n",
    "            while current and current.data != datum:\n",
    "                previous = current\n",
    "                current = current.next\n",
    "            if not current:     # this is the same as if current == None\n",
    "                raise ValueError(\"%s not found in list\" % datum)\n",
    "            else:\n",
    "                if previous:\n",
    "                    previous.next = current.next\n",
    "                else:\n",
    "                    self.head = self.head.next\n",
    "                    if not self.head:\n",
    "                        self.tail = None\n",
    "                    self.size -= 1\n",
    "        else:\n",
    "            raise ValueError (\"Target value %s is not in list\" % datum)\n",
    "\n",
    "    def insert(self, index, datum):\n",
    "        #This method should insert a new node with \"datum\" before the target index\n",
    "        new_node = self.__Node(datum)\n",
    "        self.size += 1 \n",
    "        found = False\n",
    "        count = 0\n",
    "        if self.head:\n",
    "            current = self.head\n",
    "            if index == 0:\n",
    "                #this means we're attempting to replace the head node\n",
    "                new_node.next = self.head\n",
    "                self.head = new_node\n",
    "            else:\n",
    "                while current:\n",
    "                    if count == index:\n",
    "                        found = True\n",
    "                        break\n",
    "                    current = current.next\n",
    "                    count += 1\n",
    "                if found:\n",
    "                    new_node.next = current\n",
    "                else:\n",
    "                    self.append(datum)\n",
    "        else:\n",
    "            self.head = new_node\n",
    "            self.tail = new_node\n",
    "\n",
    "    def __len__(self):\n",
    "        return self.size\n",
    "\n",
    "    def __str__(self):\n",
    "        out = \"[\"\n",
    "        if self.head:\n",
    "            current = self.head\n",
    "            out += \"%s\" % repr(current.data)\n",
    "            current = current.next\n",
    "            while current:\n",
    "                out += \", %s\" % repr(current.data)\n",
    "                current = current.next\n",
    "        out += \"]\"\n",
    "        return out"
   ]
  },
  {
   "cell_type": "code",
   "execution_count": 21,
   "id": "77928a3a-cfed-48bd-9a4f-6f204a68f512",
   "metadata": {},
   "outputs": [
    {
     "name": "stdout",
     "output_type": "stream",
     "text": [
      "Our list: [1, 2, 3, 4, 5, 6, 7, 8, 9, 10]\n"
     ]
    }
   ],
   "source": [
    "sll = SinglyLinkedList()\n",
    "\n",
    "for number in range(1, 11):\n",
    "    sll.append(number)\n",
    "\n",
    "print(\"Our list: %s\" % sll)"
   ]
  },
  {
   "cell_type": "code",
   "execution_count": 20,
   "id": "b9d6fd9e-1a25-499f-a8ea-75a20d3295f7",
   "metadata": {},
   "outputs": [
    {
     "name": "stdout",
     "output_type": "stream",
     "text": [
      "[1, 2, 1.5]\n",
      "5\n"
     ]
    }
   ],
   "source": [
    "sll = SinglyLinkedList()\n",
    "\n",
    "sll.insert(0, 1)\n",
    "\n",
    "sll.insert(2, 2)\n",
    "\n",
    "sll.insert(2, 1.5)\n",
    "\n",
    "print(sll)\n",
    "print(sll.size)"
   ]
  },
  {
   "cell_type": "code",
   "execution_count": null,
   "id": "8d9b1d84-7b5e-4caf-945c-1b8abd3499a8",
   "metadata": {},
   "outputs": [],
   "source": []
  }
 ],
 "metadata": {
  "kernelspec": {
   "display_name": "Python 3 (ipykernel)",
   "language": "python",
   "name": "python3"
  },
  "language_info": {
   "codemirror_mode": {
    "name": "ipython",
    "version": 3
   },
   "file_extension": ".py",
   "mimetype": "text/x-python",
   "name": "python",
   "nbconvert_exporter": "python",
   "pygments_lexer": "ipython3",
   "version": "3.12.7"
  }
 },
 "nbformat": 4,
 "nbformat_minor": 5
}
